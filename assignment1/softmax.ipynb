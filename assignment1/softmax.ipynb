{
 "cells": [
  {
   "cell_type": "markdown",
   "metadata": {},
   "source": [
    "# Softmax exercise\n",
    "\n",
    "*Complete and hand in this completed worksheet (including its outputs and any supporting code outside of the worksheet) with your assignment submission. For more details see the [assignments page](http://vision.stanford.edu/teaching/cs231n/assignments.html) on the course website.*\n",
    "\n",
    "This exercise is analogous to the SVM exercise. You will:\n",
    "\n",
    "- implement a fully-vectorized **loss function** for the Softmax classifier\n",
    "- implement the fully-vectorized expression for its **analytic gradient**\n",
    "- **check your implementation** with numerical gradient\n",
    "- use a validation set to **tune the learning rate and regularization** strength\n",
    "- **optimize** the loss function with **SGD**\n",
    "- **visualize** the final learned weights\n"
   ]
  },
  {
   "cell_type": "code",
   "execution_count": 1,
   "metadata": {},
   "outputs": [],
   "source": [
    "import random\n",
    "import numpy as np\n",
    "from cs231n.data_utils import load_CIFAR10\n",
    "import matplotlib.pyplot as plt\n",
    "\n",
    "from __future__ import print_function\n",
    "\n",
    "%matplotlib inline\n",
    "plt.rcParams['figure.figsize'] = (10.0, 8.0) # set default size of plots\n",
    "plt.rcParams['image.interpolation'] = 'nearest'\n",
    "plt.rcParams['image.cmap'] = 'gray'\n",
    "\n",
    "# for auto-reloading extenrnal modules\n",
    "# see http://stackoverflow.com/questions/1907993/autoreload-of-modules-in-ipython\n",
    "%load_ext autoreload\n",
    "%autoreload 2"
   ]
  },
  {
   "cell_type": "code",
   "execution_count": 2,
   "metadata": {},
   "outputs": [
    {
     "name": "stdout",
     "output_type": "stream",
     "text": [
      "Train data shape:  (49000, 3073)\n",
      "Train labels shape:  (49000,)\n",
      "Validation data shape:  (1000, 3073)\n",
      "Validation labels shape:  (1000,)\n",
      "Test data shape:  (1000, 3073)\n",
      "Test labels shape:  (1000,)\n",
      "dev data shape:  (500, 3073)\n",
      "dev labels shape:  (500,)\n"
     ]
    }
   ],
   "source": [
    "def get_CIFAR10_data(num_training=49000, num_validation=1000, num_test=1000, num_dev=500):\n",
    "    \"\"\"\n",
    "    Load the CIFAR-10 dataset from disk and perform preprocessing to prepare\n",
    "    it for the linear classifier. These are the same steps as we used for the\n",
    "    SVM, but condensed to a single function.  \n",
    "    \"\"\"\n",
    "    # Load the raw CIFAR-10 data\n",
    "    cifar10_dir = 'cs231n/datasets/cifar-10-batches-py'\n",
    "    X_train, y_train, X_test, y_test = load_CIFAR10(cifar10_dir)\n",
    "    \n",
    "    # subsample the data\n",
    "    mask = list(range(num_training, num_training + num_validation))\n",
    "    X_val = X_train[mask]\n",
    "    y_val = y_train[mask]\n",
    "    mask = list(range(num_training))\n",
    "    X_train = X_train[mask]\n",
    "    y_train = y_train[mask]\n",
    "    mask = list(range(num_test))\n",
    "    X_test = X_test[mask]\n",
    "    y_test = y_test[mask]\n",
    "    mask = np.random.choice(num_training, num_dev, replace=False)\n",
    "    X_dev = X_train[mask]\n",
    "    y_dev = y_train[mask]\n",
    "    \n",
    "    # Preprocessing: reshape the image data into rows\n",
    "    X_train = np.reshape(X_train, (X_train.shape[0], -1))\n",
    "    X_val = np.reshape(X_val, (X_val.shape[0], -1))\n",
    "    X_test = np.reshape(X_test, (X_test.shape[0], -1))\n",
    "    X_dev = np.reshape(X_dev, (X_dev.shape[0], -1))\n",
    "    \n",
    "    # Normalize the data: subtract the mean image\n",
    "    mean_image = np.mean(X_train, axis = 0)\n",
    "    X_train -= mean_image\n",
    "    X_val -= mean_image\n",
    "    X_test -= mean_image\n",
    "    X_dev -= mean_image\n",
    "    \n",
    "    # add bias dimension and transform into columns\n",
    "    X_train = np.hstack([X_train, np.ones((X_train.shape[0], 1))])\n",
    "    X_val = np.hstack([X_val, np.ones((X_val.shape[0], 1))])\n",
    "    X_test = np.hstack([X_test, np.ones((X_test.shape[0], 1))])\n",
    "    X_dev = np.hstack([X_dev, np.ones((X_dev.shape[0], 1))])\n",
    "    \n",
    "    return X_train, y_train, X_val, y_val, X_test, y_test, X_dev, y_dev\n",
    "\n",
    "\n",
    "# Invoke the above function to get our data.\n",
    "X_train, y_train, X_val, y_val, X_test, y_test, X_dev, y_dev = get_CIFAR10_data()\n",
    "print('Train data shape: ', X_train.shape)\n",
    "print('Train labels shape: ', y_train.shape)\n",
    "print('Validation data shape: ', X_val.shape)\n",
    "print('Validation labels shape: ', y_val.shape)\n",
    "print('Test data shape: ', X_test.shape)\n",
    "print('Test labels shape: ', y_test.shape)\n",
    "print('dev data shape: ', X_dev.shape)\n",
    "print('dev labels shape: ', y_dev.shape)"
   ]
  },
  {
   "cell_type": "markdown",
   "metadata": {},
   "source": [
    "## Softmax Classifier\n",
    "\n",
    "Your code for this section will all be written inside **cs231n/classifiers/softmax.py**. \n"
   ]
  },
  {
   "cell_type": "code",
   "execution_count": 55,
   "metadata": {},
   "outputs": [
    {
     "name": "stdout",
     "output_type": "stream",
     "text": [
      "loss: 2.410347\n",
      "sanity check: 2.302585\n"
     ]
    }
   ],
   "source": [
    "# First implement the naive softmax loss function with nested loops.\n",
    "# Open the file cs231n/classifiers/softmax.py and implement the\n",
    "# softmax_loss_naive function.\n",
    "\n",
    "from cs231n.classifiers.softmax import softmax_loss_naive\n",
    "import time\n",
    "\n",
    "# Generate a random softmax weight matrix and use it to compute the loss.\n",
    "W = np.random.randn(3073, 10) * 0.0001\n",
    "loss, grad = softmax_loss_naive(W, X_dev, y_dev, 0.0)\n",
    "\n",
    "# As a rough sanity check, our loss should be something close to -log(0.1).\n",
    "print('loss: %f' % loss)\n",
    "print('sanity check: %f' % (-np.log(0.1)))"
   ]
  },
  {
   "cell_type": "markdown",
   "metadata": {},
   "source": [
    "## Inline Question 1:\n",
    "Why do we expect our loss to be close to -log(0.1)? Explain briefly.**\n",
    "\n",
    "**Your answer:** *Fill this in*\n"
   ]
  },
  {
   "cell_type": "code",
   "execution_count": 61,
   "metadata": {},
   "outputs": [
    {
     "name": "stdout",
     "output_type": "stream",
     "text": [
      "numerical: -2.377164 analytic: -2.377164, relative error: 1.256074e-08\n",
      "numerical: -1.137036 analytic: -1.137036, relative error: 2.983151e-08\n",
      "numerical: -2.381639 analytic: -2.381639, relative error: 8.648398e-09\n",
      "numerical: 3.418426 analytic: 3.418426, relative error: 1.245406e-08\n",
      "numerical: -6.905993 analytic: -6.905993, relative error: 9.217484e-09\n",
      "numerical: 0.218740 analytic: 0.218740, relative error: 8.547625e-08\n",
      "numerical: 2.162817 analytic: 2.162817, relative error: 1.311127e-08\n",
      "numerical: 0.913990 analytic: 0.913990, relative error: 4.124001e-08\n",
      "numerical: 2.692438 analytic: 2.692438, relative error: 8.245300e-09\n",
      "numerical: 0.590158 analytic: 0.590158, relative error: 1.025460e-07\n",
      "numerical: 0.406818 analytic: 0.402707, relative error: 5.077957e-03\n",
      "numerical: -2.218483 analytic: -2.225858, relative error: 1.659528e-03\n",
      "numerical: 0.607259 analytic: 0.609416, relative error: 1.772459e-03\n",
      "numerical: 2.267827 analytic: 2.261436, relative error: 1.411065e-03\n",
      "numerical: -2.567553 analytic: -2.564177, relative error: 6.578388e-04\n",
      "numerical: 1.032120 analytic: 1.032464, relative error: 1.663094e-04\n",
      "numerical: 2.375278 analytic: 2.384994, relative error: 2.040894e-03\n",
      "numerical: -0.876969 analytic: -0.863120, relative error: 7.958262e-03\n",
      "numerical: -0.059163 analytic: -0.057650, relative error: 1.295723e-02\n",
      "numerical: -0.894255 analytic: -0.910169, relative error: 8.819776e-03\n",
      "numerical: 1.937186 analytic: 1.932046, relative error: 1.328428e-03\n",
      "numerical: 1.456223 analytic: 1.455351, relative error: 2.995550e-04\n",
      "numerical: -3.211883 analytic: -3.201502, relative error: 1.618726e-03\n",
      "numerical: 1.788336 analytic: 1.795150, relative error: 1.901371e-03\n",
      "numerical: 0.481218 analytic: 0.490744, relative error: 9.800552e-03\n",
      "numerical: -2.138390 analytic: -2.134412, relative error: 9.310007e-04\n",
      "numerical: -1.809548 analytic: -1.815015, relative error: 1.508252e-03\n",
      "numerical: 0.742670 analytic: 0.742393, relative error: 1.868718e-04\n",
      "numerical: -0.127178 analytic: -0.121286, relative error: 2.371020e-02\n",
      "numerical: 0.732534 analytic: 0.730555, relative error: 1.352381e-03\n",
      "numerical: 0.275863 analytic: 0.275863, relative error: 9.650790e-08\n",
      "numerical: -5.167504 analytic: -5.167504, relative error: 1.001204e-08\n",
      "numerical: 0.375415 analytic: 0.375415, relative error: 6.627301e-08\n",
      "numerical: 1.445864 analytic: 1.445863, relative error: 5.356992e-08\n",
      "numerical: 0.713636 analytic: 0.713636, relative error: 7.149358e-09\n",
      "numerical: 1.973364 analytic: 1.973364, relative error: 1.806703e-08\n",
      "numerical: 2.327126 analytic: 2.327126, relative error: 6.121317e-09\n",
      "numerical: 0.838767 analytic: 0.838767, relative error: 1.072704e-07\n",
      "numerical: 0.354131 analytic: 0.354131, relative error: 6.144848e-08\n",
      "numerical: 0.550351 analytic: 0.550351, relative error: 1.593021e-08\n"
     ]
    }
   ],
   "source": [
    "# Complete the implementation of softmax_loss_naive and implement a (naive)\n",
    "# version of the gradient that uses nested loops.\n",
    "loss, grad = softmax_loss_naive(W, X_dev, y_dev, 0.0)\n",
    "\n",
    "# As we did for the SVM, use numeric gradient checking as a debugging tool.\n",
    "# The numeric gradient should be close to the analytic gradient.\n",
    "from cs231n.gradient_check import grad_check_sparse\n",
    "f = lambda w: softmax_loss_naive(w, X_dev, y_dev, 0.0)[0]\n",
    "grad_numerical = grad_check_sparse(f, W, grad, 10)\n",
    "\n",
    "# similar to SVM case, do another gradient check with regularization\n",
    "loss, grad = softmax_loss_naive(W, X_dev, y_dev, 5e1)\n",
    "f = lambda w: softmax_loss_naive(w, X_dev, y_dev, 5e1)[0]\n",
    "grad_numerical = grad_check_sparse(f, W, grad, 10)\n",
    "\n",
    "\n",
    "# As we did for the SVM, use numeric gradient checking as a debugging tool.\n",
    "# The numeric gradient should be close to the analytic gradient.\n",
    "from cs231n.gradient_check import grad_check_sparse\n",
    "f = lambda w: softmax_loss_naive(w, X_dev, y_dev, 0.0)[0]\n",
    "grad_numerical = grad_check_sparse(f, W, grad, 10)\n",
    "\n",
    "# similar to SVM case, do another gradient check with regularization\n",
    "loss, grad = softmax_loss_vectorized(W, X_dev, y_dev, 5e1)\n",
    "f = lambda w: softmax_loss_vectorized(w, X_dev, y_dev, 5e1)[0]\n",
    "grad_numerical = grad_check_sparse(f, W, grad, 10)"
   ]
  },
  {
   "cell_type": "code",
   "execution_count": 62,
   "metadata": {},
   "outputs": [
    {
     "name": "stdout",
     "output_type": "stream",
     "text": [
      "naive loss: 2.410347e+00 computed in 0.193869s\n",
      "vectorized loss: 2.410347e+00 computed in 0.003384s\n",
      "Loss difference: 0.000000\n",
      "Gradient difference: 0.000000\n"
     ]
    }
   ],
   "source": [
    "# Now that we have a naive implementation of the softmax loss function and its gradient,\n",
    "# implement a vectorized version in softmax_loss_vectorized.\n",
    "# The two versions should compute the same results, but the vectorized version should be\n",
    "# much faster.\n",
    "tic = time.time()\n",
    "loss_naive, grad_naive = softmax_loss_naive(W, X_dev, y_dev, 0.000005)\n",
    "toc = time.time()\n",
    "print('naive loss: %e computed in %fs' % (loss_naive, toc - tic))\n",
    "\n",
    "from cs231n.classifiers.softmax import softmax_loss_vectorized\n",
    "tic = time.time()\n",
    "loss_vectorized, grad_vectorized = softmax_loss_vectorized(W, X_dev, y_dev, 0.000005)\n",
    "toc = time.time()\n",
    "print('vectorized loss: %e computed in %fs' % (loss_vectorized, toc - tic))\n",
    "\n",
    "# As we did for the SVM, we use the Frobenius norm to compare the two versions\n",
    "# of the gradient.\n",
    "grad_difference = np.linalg.norm(grad_naive - grad_vectorized, ord='fro')\n",
    "print('Loss difference: %f' % np.abs(loss_naive - loss_vectorized))\n",
    "print('Gradient difference: %f' % grad_difference)"
   ]
  },
  {
   "cell_type": "code",
   "execution_count": 69,
   "metadata": {},
   "outputs": [
    {
     "name": "stdout",
     "output_type": "stream",
     "text": [
      "iteration 0 / 1500: loss 390.512372\n",
      "iteration 100 / 1500: loss 236.328619\n",
      "iteration 200 / 1500: loss 143.498199\n",
      "iteration 300 / 1500: loss 87.754014\n",
      "iteration 400 / 1500: loss 53.717749\n",
      "iteration 500 / 1500: loss 33.372886\n",
      "iteration 600 / 1500: loss 21.015643\n",
      "iteration 700 / 1500: loss 13.530348\n",
      "iteration 800 / 1500: loss 9.016110\n",
      "iteration 900 / 1500: loss 6.170000\n",
      "iteration 1000 / 1500: loss 4.578107\n",
      "iteration 1100 / 1500: loss 3.597939\n",
      "iteration 1200 / 1500: loss 2.941703\n",
      "iteration 1300 / 1500: loss 2.607552\n",
      "iteration 1400 / 1500: loss 2.350486\n",
      "iteration 0 / 1500: loss 776.538531\n",
      "iteration 100 / 1500: loss 284.911785\n",
      "iteration 200 / 1500: loss 105.563568\n",
      "iteration 300 / 1500: loss 39.955999\n",
      "iteration 400 / 1500: loss 15.957560\n",
      "iteration 500 / 1500: loss 7.185614\n",
      "iteration 600 / 1500: loss 3.925084\n",
      "iteration 700 / 1500: loss 2.752922\n",
      "iteration 800 / 1500: loss 2.303129\n",
      "iteration 900 / 1500: loss 2.163533\n",
      "iteration 1000 / 1500: loss 2.061086\n",
      "iteration 1100 / 1500: loss 2.129305\n",
      "iteration 1200 / 1500: loss 2.081103\n",
      "iteration 1300 / 1500: loss 2.096441\n",
      "iteration 1400 / 1500: loss 2.112984\n",
      "iteration 0 / 1500: loss 393.216442\n",
      "iteration 100 / 1500: loss 33.010821\n",
      "iteration 200 / 1500: loss 4.507231\n",
      "iteration 300 / 1500: loss 2.240144\n",
      "iteration 400 / 1500: loss 2.030216\n",
      "iteration 500 / 1500: loss 2.054875\n",
      "iteration 600 / 1500: loss 2.086307\n",
      "iteration 700 / 1500: loss 2.054502\n",
      "iteration 800 / 1500: loss 2.005460\n",
      "iteration 900 / 1500: loss 2.055757\n",
      "iteration 1000 / 1500: loss 2.107263\n",
      "iteration 1100 / 1500: loss 2.080706\n",
      "iteration 1200 / 1500: loss 2.031565\n",
      "iteration 1300 / 1500: loss 2.042548\n",
      "iteration 1400 / 1500: loss 2.000997\n",
      "iteration 0 / 1500: loss 777.793362\n",
      "iteration 100 / 1500: loss 6.923156\n",
      "iteration 200 / 1500: loss 2.110654\n",
      "iteration 300 / 1500: loss 2.086321\n",
      "iteration 400 / 1500: loss 2.085869\n",
      "iteration 500 / 1500: loss 2.098601\n",
      "iteration 600 / 1500: loss 2.060013\n",
      "iteration 700 / 1500: loss 2.042762\n",
      "iteration 800 / 1500: loss 2.043974\n",
      "iteration 900 / 1500: loss 2.120389\n",
      "iteration 1000 / 1500: loss 2.059519\n",
      "iteration 1100 / 1500: loss 2.081857\n",
      "iteration 1200 / 1500: loss 2.111115\n",
      "iteration 1300 / 1500: loss 2.089478\n",
      "iteration 1400 / 1500: loss 2.139758\n",
      "lr 1.000000e-07 reg 2.500000e+04 train accuracy: 0.350469 val accuracy: 0.360000\n",
      "lr 1.000000e-07 reg 5.000000e+04 train accuracy: 0.327000 val accuracy: 0.346000\n",
      "lr 5.000000e-07 reg 2.500000e+04 train accuracy: 0.351163 val accuracy: 0.359000\n",
      "lr 5.000000e-07 reg 5.000000e+04 train accuracy: 0.331469 val accuracy: 0.338000\n",
      "best validation accuracy achieved during cross-validation: 0.360000\n"
     ]
    }
   ],
   "source": [
    "# Use the validation set to tune hyperparameters (regularization strength and\n",
    "# learning rate). You should experiment with different ranges for the learning\n",
    "# rates and regularization strengths; if you are careful you should be able to\n",
    "# get a classification accuracy of over 0.35 on the validation set.\n",
    "from cs231n.classifiers import Softmax\n",
    "results = {}\n",
    "best_val = -1\n",
    "best_softmax = None\n",
    "learning_rates = [1e-7, 5e-7]\n",
    "regularization_strengths = [2.5e4, 5e4]\n",
    "\n",
    "################################################################################\n",
    "# TODO:                                                                        #\n",
    "# Use the validation set to set the learning rate and regularization strength. #\n",
    "# This should be identical to the validation that you did for the SVM; save    #\n",
    "# the best trained softmax classifer in best_softmax.                          #\n",
    "################################################################################\n",
    "for lr in learning_rates:\n",
    "    max_acc = 0\n",
    "    for reg in regularization_strengths:\n",
    "        softmax = Softmax()\n",
    "        softmax.train(X=X_train, y=y_train,batch_size=256,learning_rate=lr,\n",
    "                      num_iters=1500,reg=reg,verbose=True)\n",
    "        pred_train = softmax.predict(X=X_train)\n",
    "        pred_val = softmax.predict(X=X_val)\n",
    "        acc_train = np.mean(pred_train==y_train)\n",
    "        acc_val = np.mean(pred_val==y_val)\n",
    "        results[(lr,reg)] = (acc_train,acc_val)\n",
    "        if(acc_val>best_val):\n",
    "            best_val = acc_val\n",
    "            best_softmax = softmax\n",
    "\n",
    "################################################################################\n",
    "#                              END OF YOUR CODE                                #\n",
    "################################################################################\n",
    "    \n",
    "# Print out results.\n",
    "for lr, reg in sorted(results):\n",
    "    train_accuracy, val_accuracy = results[(lr, reg)]\n",
    "    print('lr %e reg %e train accuracy: %f val accuracy: %f' % (\n",
    "                lr, reg, train_accuracy, val_accuracy))\n",
    "    \n",
    "print('best validation accuracy achieved during cross-validation: %f' % best_val)"
   ]
  },
  {
   "cell_type": "code",
   "execution_count": 70,
   "metadata": {},
   "outputs": [
    {
     "name": "stdout",
     "output_type": "stream",
     "text": [
      "softmax on raw pixels final test set accuracy: 0.360000\n"
     ]
    }
   ],
   "source": [
    "# evaluate on test set\n",
    "# Evaluate the best softmax on test set\n",
    "y_test_pred = best_softmax.predict(X_test)\n",
    "test_accuracy = np.mean(y_test == y_test_pred)\n",
    "print('softmax on raw pixels final test set accuracy: %f' % (test_accuracy, ))"
   ]
  },
  {
   "cell_type": "code",
   "execution_count": 71,
   "metadata": {},
   "outputs": [
    {
     "data": {
      "image/png": "[encoded data removed]",
      "text/plain": [
       "<matplotlib.figure.Figure at 0x1097f3490>"
      ]
     },
     "metadata": {},
     "output_type": "display_data"
    }
   ],
   "source": [
    "# Visualize the learned weights for each class\n",
    "w = best_softmax.W[:-1,:] # strip out the bias\n",
    "w = w.reshape(32, 32, 3, 10)\n",
    "\n",
    "w_min, w_max = np.min(w), np.max(w)\n",
    "\n",
    "classes = ['plane', 'car', 'bird', 'cat', 'deer', 'dog', 'frog', 'horse', 'ship', 'truck']\n",
    "for i in range(10):\n",
    "    plt.subplot(2, 5, i + 1)\n",
    "    \n",
    "    # Rescale the weights to be between 0 and 255\n",
    "    wimg = 255.0 * (w[:, :, :, i].squeeze() - w_min) / (w_max - w_min)\n",
    "    plt.imshow(wimg.astype('uint8'))\n",
    "    plt.axis('off')\n",
    "    plt.title(classes[i])"
   ]
  },
  {
   "cell_type": "code",
   "execution_count": null,
   "metadata": {},
   "outputs": [],
   "source": []
  }
 ],
 "metadata": {
  "kernelspec": {
   "display_name": "Python 2",
   "language": "python",
   "name": "python2"
  },
  "language_info": {
   "codemirror_mode": {
    "name": "ipython",
    "version": 2
   },
   "file_extension": ".py",
   "mimetype": "text/x-python",
   "name": "python",
   "nbconvert_exporter": "python",
   "pygments_lexer": "ipython2",
   "version": "2.7.10"
  }
 },
 "nbformat": 4,
 "nbformat_minor": 1
}
